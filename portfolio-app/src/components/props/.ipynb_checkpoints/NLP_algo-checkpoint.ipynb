{
 "cells": [
  {
   "cell_type": "code",
   "execution_count": 117,
   "id": "f2c048df",
   "metadata": {},
   "outputs": [],
   "source": [
    "#importing the packages\n",
    "import pandas as pd\n",
    "import numpy as np\n",
    "from sklearn.preprocessing import MinMaxScaler\n",
    "import datetime as dt\n",
    "from keras.models import Sequential\n",
    "from keras.layers import LSTM,Dropout,Dense\n",
    "from sklearn.model_selection import train_test_split\n",
    "from sklearn.metrics import mean_squared_error, r2_score, mean_absolute_error\n",
    "import plotly.graph_objects as go\n",
    "import plotly.express as px"
   ]
  },
  {
   "cell_type": "code",
   "execution_count": 118,
   "id": "d092ca45",
   "metadata": {},
   "outputs": [],
   "source": [
    "def cattostr(cate):\n",
    "    \n",
    "    catname=['ATOC',\n",
    " 'BEST',\n",
    " 'CHRC',\n",
    " 'DECE',\n",
    " 'DGKH',\n",
    " 'FAUC',\n",
    " 'FCEM',\n",
    " 'FYCC',\n",
    " 'GHAR',\n",
    " 'JAVA',\n",
    " 'KOHC',\n",
    " 'LUKC',\n",
    " 'MPLF',\n",
    " 'PION',\n",
    " 'POWE',\n",
    " 'SAFE',\n",
    " 'THTA']\n",
    "    try:\n",
    "        if catname[0]==cate:\n",
    "            return 101\n",
    "        elif catname[1]==cate:\n",
    "            return 102\n",
    "        elif catname[2]==cate:\n",
    "            return 103\n",
    "        elif catname[3]==cate:\n",
    "            return 104\n",
    "        elif catname[4]==cate:\n",
    "            return 105\n",
    "        elif catname[5]==cate:\n",
    "            return 106\n",
    "        elif catname[6]==cate:\n",
    "            return 107\n",
    "        elif catname[7]==cate:\n",
    "            return 108\n",
    "        elif catname[8]==cate:\n",
    "            return 109\n",
    "        elif catname[9]==cate:\n",
    "            return 110\n",
    "        elif catname[10]==cate:\n",
    "            return 111\n",
    "        elif catname[11]==cate:\n",
    "            return 112\n",
    "        elif catname[12]==cate:\n",
    "            return 113\n",
    "        elif catname[13]==cate:\n",
    "            return 114\n",
    "        elif catname[14]==cate:\n",
    "            return 115\n",
    "        elif catname[15]==cate:\n",
    "            return 116\n",
    "        elif catname[16]==cate:\n",
    "            return 117\n",
    "    except:\n",
    "        print(\"Error........\")\n",
    "    return np.nan\n",
    "    \n",
    "    \n",
    "    \n",
    "def outlair(v):\n",
    "    try:\n",
    "        filtr = int(float(str(v).replace(',','')))\n",
    "        return filtr\n",
    "    except:\n",
    "        return 0"
   ]
  },
  {
   "cell_type": "code",
   "execution_count": 119,
   "id": "c3f3f43c",
   "metadata": {},
   "outputs": [
    {
     "name": "stderr",
     "output_type": "stream",
     "text": [
      "C:\\Users\\hp\\AppData\\Local\\Temp\\ipykernel_18228\\3175235568.py:1: DtypeWarning:\n",
      "\n",
      "Columns (3,4,5) have mixed types. Specify dtype option on import or set low_memory=False.\n",
      "\n"
     ]
    }
   ],
   "source": [
    "RawData=pd.read_csv(r\"C:\\Users\\hp\\Downloads\\Complete Data combined.csv\")"
   ]
  },
  {
   "cell_type": "markdown",
   "id": "70b59f3d",
   "metadata": {},
   "source": [
    "Data Preprosessing W.R.T each Features\n",
    "\n",
    "Total Features 7 \n"
   ]
  },
  {
   "cell_type": "markdown",
   "id": "111d1305",
   "metadata": {},
   "source": [
    "# Raw Data Sample"
   ]
  },
  {
   "cell_type": "code",
   "execution_count": 120,
   "id": "23d8b08a",
   "metadata": {},
   "outputs": [
    {
     "name": "stdout",
     "output_type": "stream",
     "text": [
      "<class 'pandas.core.frame.DataFrame'>\n",
      "RangeIndex: 71873 entries, 0 to 71872\n",
      "Data columns (total 11 columns):\n",
      " #   Column        Non-Null Count  Dtype \n",
      "---  ------        --------------  ----- \n",
      " 0   Name          71873 non-null  object\n",
      " 1   full date     71873 non-null  int64 \n",
      " 2   Date          71873 non-null  object\n",
      " 3   Price         71873 non-null  object\n",
      " 4   Open          71873 non-null  object\n",
      " 5   High          71873 non-null  object\n",
      " 6   Low           71873 non-null  object\n",
      " 7   Vol.          71873 non-null  object\n",
      " 8   Vol full      71873 non-null  object\n",
      " 9   change        71873 non-null  object\n",
      " 10  value change  71873 non-null  int64 \n",
      "dtypes: int64(2), object(9)\n",
      "memory usage: 6.0+ MB\n"
     ]
    }
   ],
   "source": [
    "RawData.info()"
   ]
  },
  {
   "cell_type": "markdown",
   "id": "f8f1e406",
   "metadata": {},
   "source": [
    "Raw Data Sampling "
   ]
  },
  {
   "cell_type": "code",
   "execution_count": 121,
   "id": "46ee20e0",
   "metadata": {},
   "outputs": [
    {
     "data": {
      "text/html": [
       "<div>\n",
       "<style scoped>\n",
       "    .dataframe tbody tr th:only-of-type {\n",
       "        vertical-align: middle;\n",
       "    }\n",
       "\n",
       "    .dataframe tbody tr th {\n",
       "        vertical-align: top;\n",
       "    }\n",
       "\n",
       "    .dataframe thead th {\n",
       "        text-align: right;\n",
       "    }\n",
       "</style>\n",
       "<table border=\"1\" class=\"dataframe\">\n",
       "  <thead>\n",
       "    <tr style=\"text-align: right;\">\n",
       "      <th></th>\n",
       "      <th>Name</th>\n",
       "      <th>full date</th>\n",
       "      <th>Date</th>\n",
       "      <th>Price</th>\n",
       "      <th>Open</th>\n",
       "      <th>High</th>\n",
       "      <th>Low</th>\n",
       "      <th>Vol.</th>\n",
       "      <th>Vol full</th>\n",
       "      <th>change</th>\n",
       "      <th>value change</th>\n",
       "    </tr>\n",
       "  </thead>\n",
       "  <tbody>\n",
       "    <tr>\n",
       "      <th>9344</th>\n",
       "      <td>ATOC</td>\n",
       "      <td>31023</td>\n",
       "      <td>10/23/2003</td>\n",
       "      <td>14.99</td>\n",
       "      <td>15.49</td>\n",
       "      <td>15.7</td>\n",
       "      <td>14.83</td>\n",
       "      <td>150.45K</td>\n",
       "      <td>150450</td>\n",
       "      <td>-3.23%</td>\n",
       "      <td>0</td>\n",
       "    </tr>\n",
       "    <tr>\n",
       "      <th>37484</th>\n",
       "      <td>FYCC</td>\n",
       "      <td>180606</td>\n",
       "      <td>6/6/2018</td>\n",
       "      <td>15.4</td>\n",
       "      <td>15.73</td>\n",
       "      <td>15.77</td>\n",
       "      <td>15.36</td>\n",
       "      <td>30.99K</td>\n",
       "      <td>30990</td>\n",
       "      <td>-1.22%</td>\n",
       "      <td>0</td>\n",
       "    </tr>\n",
       "    <tr>\n",
       "      <th>38302</th>\n",
       "      <td>FYCC</td>\n",
       "      <td>150218</td>\n",
       "      <td>2/18/2015</td>\n",
       "      <td>5.63</td>\n",
       "      <td>5.76</td>\n",
       "      <td>5.76</td>\n",
       "      <td>5.54</td>\n",
       "      <td>30.99K</td>\n",
       "      <td>30990</td>\n",
       "      <td>-1.05%</td>\n",
       "      <td>0</td>\n",
       "    </tr>\n",
       "    <tr>\n",
       "      <th>27187</th>\n",
       "      <td>FAUC</td>\n",
       "      <td>210621</td>\n",
       "      <td>6/21/2021</td>\n",
       "      <td>23.85</td>\n",
       "      <td>24.01</td>\n",
       "      <td>24.3</td>\n",
       "      <td>23.8</td>\n",
       "      <td>1.28M</td>\n",
       "      <td>1280000</td>\n",
       "      <td>-1.24%</td>\n",
       "      <td>0</td>\n",
       "    </tr>\n",
       "    <tr>\n",
       "      <th>44750</th>\n",
       "      <td>JAVA</td>\n",
       "      <td>210825</td>\n",
       "      <td>8/25/2021</td>\n",
       "      <td>46.25</td>\n",
       "      <td>48.33</td>\n",
       "      <td>48.33</td>\n",
       "      <td>45.83</td>\n",
       "      <td>463.20K</td>\n",
       "      <td>463200</td>\n",
       "      <td>-3.16%</td>\n",
       "      <td>0</td>\n",
       "    </tr>\n",
       "  </tbody>\n",
       "</table>\n",
       "</div>"
      ],
      "text/plain": [
       "       Name  full date        Date  Price   Open   High    Low     Vol.  \\\n",
       "9344   ATOC      31023  10/23/2003  14.99  15.49   15.7  14.83  150.45K   \n",
       "37484  FYCC     180606    6/6/2018   15.4  15.73  15.77  15.36   30.99K   \n",
       "38302  FYCC     150218   2/18/2015   5.63   5.76   5.76   5.54   30.99K   \n",
       "27187  FAUC     210621   6/21/2021  23.85  24.01   24.3   23.8    1.28M   \n",
       "44750  JAVA     210825   8/25/2021  46.25  48.33  48.33  45.83  463.20K   \n",
       "\n",
       "      Vol full  change  value change  \n",
       "9344    150450  -3.23%             0  \n",
       "37484    30990  -1.22%             0  \n",
       "38302    30990  -1.05%             0  \n",
       "27187  1280000  -1.24%             0  \n",
       "44750   463200  -3.16%             0  "
      ]
     },
     "execution_count": 121,
     "metadata": {},
     "output_type": "execute_result"
    }
   ],
   "source": [
    "RawData.sample(5)"
   ]
  },
  {
   "cell_type": "markdown",
   "id": "9291f916",
   "metadata": {},
   "source": [
    "++++++++++++++++++++++++++++++++++++++++++++++++++++++++++++++++++++++++++++++++++++++++++++++++++++++++++++++++++++++++"
   ]
  },
  {
   "cell_type": "code",
   "execution_count": 122,
   "id": "6943fc76",
   "metadata": {},
   "outputs": [],
   "source": [
    "RawData['Name'] = RawData['Name'].apply(lambda x:cattostr(x))\n",
    "RawData=RawData[~RawData['Name'].isin([112])]\n",
    "RawData=RawData.rename(columns={'full date':'Timestamp','Vol full':'Volume','value change':'ChangeValue','Name':'NameASid'})\n",
    "RawData=RawData[['Timestamp','High','Low','Volume','ChangeValue','Price','Open','NameASid']]\n",
    "RawData['Volume'] = RawData['Volume'].apply(lambda x: outlair(x))\n",
    "RawData['High'] = RawData['High'].apply(lambda x: int(float(str(x).replace(',',''))))\n",
    "RawData['Low'] = RawData['Low'].apply(lambda x: int(float(str(x).replace(',',''))))\n",
    "RawData['Timestamp'] = RawData['Timestamp'].apply(lambda x: int(float(str(x).replace(',',''))))\n",
    "RawData['Price'] = RawData['Price'].apply(lambda x: int(float(str(x).replace(',',''))))\n",
    "RawData['Open'] = RawData['Open'].apply(lambda x: int(float(str(x).replace(',',''))))\n",
    "RawData=RawData[RawData['Price']>=0]\n",
    "Process_Data = RawData.copy()"
   ]
  },
  {
   "cell_type": "code",
   "execution_count": 123,
   "id": "0d484df0",
   "metadata": {},
   "outputs": [],
   "source": [
    "#df2['timestamp'] = pd.to_datetime(df2['timestamp'],unit='ms').dt.date\n",
    "#df2[(df2['timestamp']==dt.date(1970,1,1)) & (df2['Id']==112)]"
   ]
  },
  {
   "cell_type": "code",
   "execution_count": null,
   "id": "d1734f5e",
   "metadata": {},
   "outputs": [],
   "source": []
  },
  {
   "cell_type": "code",
   "execution_count": 124,
   "id": "2f84b630",
   "metadata": {},
   "outputs": [
    {
     "data": {
      "text/html": [
       "<div>\n",
       "<style scoped>\n",
       "    .dataframe tbody tr th:only-of-type {\n",
       "        vertical-align: middle;\n",
       "    }\n",
       "\n",
       "    .dataframe tbody tr th {\n",
       "        vertical-align: top;\n",
       "    }\n",
       "\n",
       "    .dataframe thead th {\n",
       "        text-align: right;\n",
       "    }\n",
       "</style>\n",
       "<table border=\"1\" class=\"dataframe\">\n",
       "  <thead>\n",
       "    <tr style=\"text-align: right;\">\n",
       "      <th></th>\n",
       "      <th>Timestamp</th>\n",
       "      <th>High</th>\n",
       "      <th>Low</th>\n",
       "      <th>Volume</th>\n",
       "      <th>ChangeValue</th>\n",
       "      <th>Price</th>\n",
       "      <th>Open</th>\n",
       "      <th>NameASid</th>\n",
       "    </tr>\n",
       "  </thead>\n",
       "  <tbody>\n",
       "    <tr>\n",
       "      <th>5000</th>\n",
       "      <td>211231</td>\n",
       "      <td>138</td>\n",
       "      <td>132</td>\n",
       "      <td>25200</td>\n",
       "      <td>0</td>\n",
       "      <td>133</td>\n",
       "      <td>132</td>\n",
       "      <td>101</td>\n",
       "    </tr>\n",
       "    <tr>\n",
       "      <th>5001</th>\n",
       "      <td>211230</td>\n",
       "      <td>136</td>\n",
       "      <td>132</td>\n",
       "      <td>13100</td>\n",
       "      <td>1</td>\n",
       "      <td>135</td>\n",
       "      <td>134</td>\n",
       "      <td>101</td>\n",
       "    </tr>\n",
       "    <tr>\n",
       "      <th>5002</th>\n",
       "      <td>211229</td>\n",
       "      <td>135</td>\n",
       "      <td>134</td>\n",
       "      <td>15000</td>\n",
       "      <td>0</td>\n",
       "      <td>134</td>\n",
       "      <td>134</td>\n",
       "      <td>101</td>\n",
       "    </tr>\n",
       "    <tr>\n",
       "      <th>5003</th>\n",
       "      <td>211228</td>\n",
       "      <td>135</td>\n",
       "      <td>134</td>\n",
       "      <td>21600</td>\n",
       "      <td>0</td>\n",
       "      <td>135</td>\n",
       "      <td>134</td>\n",
       "      <td>101</td>\n",
       "    </tr>\n",
       "    <tr>\n",
       "      <th>5004</th>\n",
       "      <td>211227</td>\n",
       "      <td>137</td>\n",
       "      <td>134</td>\n",
       "      <td>7700</td>\n",
       "      <td>0</td>\n",
       "      <td>137</td>\n",
       "      <td>135</td>\n",
       "      <td>101</td>\n",
       "    </tr>\n",
       "    <tr>\n",
       "      <th>...</th>\n",
       "      <td>...</td>\n",
       "      <td>...</td>\n",
       "      <td>...</td>\n",
       "      <td>...</td>\n",
       "      <td>...</td>\n",
       "      <td>...</td>\n",
       "      <td>...</td>\n",
       "      <td>...</td>\n",
       "    </tr>\n",
       "    <tr>\n",
       "      <th>71868</th>\n",
       "      <td>80415</td>\n",
       "      <td>23</td>\n",
       "      <td>22</td>\n",
       "      <td>3190000</td>\n",
       "      <td>1</td>\n",
       "      <td>23</td>\n",
       "      <td>22</td>\n",
       "      <td>117</td>\n",
       "    </tr>\n",
       "    <tr>\n",
       "      <th>71869</th>\n",
       "      <td>80414</td>\n",
       "      <td>24</td>\n",
       "      <td>22</td>\n",
       "      <td>570530</td>\n",
       "      <td>0</td>\n",
       "      <td>22</td>\n",
       "      <td>24</td>\n",
       "      <td>117</td>\n",
       "    </tr>\n",
       "    <tr>\n",
       "      <th>71870</th>\n",
       "      <td>80411</td>\n",
       "      <td>24</td>\n",
       "      <td>23</td>\n",
       "      <td>1570000</td>\n",
       "      <td>0</td>\n",
       "      <td>23</td>\n",
       "      <td>23</td>\n",
       "      <td>117</td>\n",
       "    </tr>\n",
       "    <tr>\n",
       "      <th>71871</th>\n",
       "      <td>80410</td>\n",
       "      <td>24</td>\n",
       "      <td>23</td>\n",
       "      <td>1550000</td>\n",
       "      <td>0</td>\n",
       "      <td>23</td>\n",
       "      <td>23</td>\n",
       "      <td>117</td>\n",
       "    </tr>\n",
       "    <tr>\n",
       "      <th>71872</th>\n",
       "      <td>80409</td>\n",
       "      <td>25</td>\n",
       "      <td>24</td>\n",
       "      <td>1730000</td>\n",
       "      <td>1</td>\n",
       "      <td>24</td>\n",
       "      <td>25</td>\n",
       "      <td>117</td>\n",
       "    </tr>\n",
       "  </tbody>\n",
       "</table>\n",
       "<p>66872 rows × 8 columns</p>\n",
       "</div>"
      ],
      "text/plain": [
       "       Timestamp  High  Low   Volume  ChangeValue  Price  Open  NameASid\n",
       "5000      211231   138  132    25200            0    133   132       101\n",
       "5001      211230   136  132    13100            1    135   134       101\n",
       "5002      211229   135  134    15000            0    134   134       101\n",
       "5003      211228   135  134    21600            0    135   134       101\n",
       "5004      211227   137  134     7700            0    137   135       101\n",
       "...          ...   ...  ...      ...          ...    ...   ...       ...\n",
       "71868      80415    23   22  3190000            1     23    22       117\n",
       "71869      80414    24   22   570530            0     22    24       117\n",
       "71870      80411    24   23  1570000            0     23    23       117\n",
       "71871      80410    24   23  1550000            0     23    23       117\n",
       "71872      80409    25   24  1730000            1     24    25       117\n",
       "\n",
       "[66872 rows x 8 columns]"
      ]
     },
     "execution_count": 124,
     "metadata": {},
     "output_type": "execute_result"
    }
   ],
   "source": [
    "RawData"
   ]
  },
  {
   "cell_type": "code",
   "execution_count": 125,
   "id": "af250035",
   "metadata": {},
   "outputs": [
    {
     "data": {
      "text/html": [
       "<div>\n",
       "<style scoped>\n",
       "    .dataframe tbody tr th:only-of-type {\n",
       "        vertical-align: middle;\n",
       "    }\n",
       "\n",
       "    .dataframe tbody tr th {\n",
       "        vertical-align: top;\n",
       "    }\n",
       "\n",
       "    .dataframe thead th {\n",
       "        text-align: right;\n",
       "    }\n",
       "</style>\n",
       "<table border=\"1\" class=\"dataframe\">\n",
       "  <thead>\n",
       "    <tr style=\"text-align: right;\">\n",
       "      <th></th>\n",
       "      <th>Timestamp</th>\n",
       "      <th>High</th>\n",
       "      <th>Low</th>\n",
       "      <th>Volume</th>\n",
       "      <th>ChangeValue</th>\n",
       "      <th>Price</th>\n",
       "      <th>Open</th>\n",
       "      <th>NameASid</th>\n",
       "    </tr>\n",
       "  </thead>\n",
       "  <tbody>\n",
       "    <tr>\n",
       "      <th>7889</th>\n",
       "      <td>100406</td>\n",
       "      <td>45</td>\n",
       "      <td>42</td>\n",
       "      <td>212810</td>\n",
       "      <td>0</td>\n",
       "      <td>43</td>\n",
       "      <td>45</td>\n",
       "      <td>101</td>\n",
       "    </tr>\n",
       "    <tr>\n",
       "      <th>15963</th>\n",
       "      <td>70523</td>\n",
       "      <td>33</td>\n",
       "      <td>32</td>\n",
       "      <td>613720</td>\n",
       "      <td>0</td>\n",
       "      <td>32</td>\n",
       "      <td>33</td>\n",
       "      <td>103</td>\n",
       "    </tr>\n",
       "    <tr>\n",
       "      <th>38142</th>\n",
       "      <td>151012</td>\n",
       "      <td>7</td>\n",
       "      <td>7</td>\n",
       "      <td>5270</td>\n",
       "      <td>1</td>\n",
       "      <td>7</td>\n",
       "      <td>7</td>\n",
       "      <td>108</td>\n",
       "    </tr>\n",
       "    <tr>\n",
       "      <th>6287</th>\n",
       "      <td>160928</td>\n",
       "      <td>216</td>\n",
       "      <td>212</td>\n",
       "      <td>69000</td>\n",
       "      <td>0</td>\n",
       "      <td>213</td>\n",
       "      <td>216</td>\n",
       "      <td>101</td>\n",
       "    </tr>\n",
       "    <tr>\n",
       "      <th>39312</th>\n",
       "      <td>110120</td>\n",
       "      <td>1</td>\n",
       "      <td>1</td>\n",
       "      <td>202820</td>\n",
       "      <td>1</td>\n",
       "      <td>1</td>\n",
       "      <td>1</td>\n",
       "      <td>108</td>\n",
       "    </tr>\n",
       "  </tbody>\n",
       "</table>\n",
       "</div>"
      ],
      "text/plain": [
       "       Timestamp  High  Low  Volume  ChangeValue  Price  Open  NameASid\n",
       "7889      100406    45   42  212810            0     43    45       101\n",
       "15963      70523    33   32  613720            0     32    33       103\n",
       "38142     151012     7    7    5270            1      7     7       108\n",
       "6287      160928   216  212   69000            0    213   216       101\n",
       "39312     110120     1    1  202820            1      1     1       108"
      ]
     },
     "execution_count": 125,
     "metadata": {},
     "output_type": "execute_result"
    }
   ],
   "source": [
    "Process_Data.sample(5)"
   ]
  },
  {
   "cell_type": "code",
   "execution_count": 126,
   "id": "1ccd0e1f",
   "metadata": {},
   "outputs": [],
   "source": [
    "Final_Data = Process_Data.copy()"
   ]
  },
  {
   "cell_type": "code",
   "execution_count": 127,
   "id": "dac38882",
   "metadata": {},
   "outputs": [],
   "source": [
    "final_dataset=Final_Data.values"
   ]
  },
  {
   "cell_type": "code",
   "execution_count": 128,
   "id": "4e49435d",
   "metadata": {},
   "outputs": [],
   "source": [
    "X = Final_Data[['Timestamp','NameASid','Volume','High','Low','Open']]\n",
    "#X = Final_Data[['Timestamp','Id','Volume','High','Low','Open']]\n",
    "y = Final_Data[['Price']]"
   ]
  },
  {
   "cell_type": "code",
   "execution_count": null,
   "id": "ab4c6606",
   "metadata": {},
   "outputs": [],
   "source": []
  },
  {
   "cell_type": "code",
   "execution_count": null,
   "id": "2ce344a5",
   "metadata": {},
   "outputs": [],
   "source": []
  },
  {
   "cell_type": "code",
   "execution_count": null,
   "id": "976fab62",
   "metadata": {},
   "outputs": [],
   "source": []
  },
  {
   "cell_type": "code",
   "execution_count": 129,
   "id": "5558e19d",
   "metadata": {},
   "outputs": [],
   "source": [
    "test_size=int(25/100*len(final_dataset))\n",
    "x_train_data, X_test, y_train_data, y_test = train_test_split(X, y, test_size = 0.3,random_state = 101,shuffle=True)"
   ]
  },
  {
   "cell_type": "code",
   "execution_count": 130,
   "id": "0d11fd2d",
   "metadata": {},
   "outputs": [],
   "source": [
    "x_train_data=x_train_data.values\n",
    "y_train_data=y_train_data.values"
   ]
  },
  {
   "cell_type": "code",
   "execution_count": 131,
   "id": "4e16b06f",
   "metadata": {},
   "outputs": [
    {
     "data": {
      "text/plain": [
       "(46810, 20062)"
      ]
     },
     "execution_count": 131,
     "metadata": {},
     "output_type": "execute_result"
    }
   ],
   "source": [
    "len(x_train_data),len(X_test)"
   ]
  },
  {
   "cell_type": "code",
   "execution_count": 132,
   "id": "73a276aa",
   "metadata": {},
   "outputs": [],
   "source": [
    "x_train_data,y_train_data=np.array(x_train_data),np.array(y_train_data)\n",
    "x_train_data=np.reshape(x_train_data,(x_train_data.shape[0],x_train_data.shape[1],1))"
   ]
  },
  {
   "cell_type": "code",
   "execution_count": null,
   "id": "cf08ca10",
   "metadata": {},
   "outputs": [],
   "source": []
  },
  {
   "cell_type": "code",
   "execution_count": 133,
   "id": "bddc0abc",
   "metadata": {},
   "outputs": [],
   "source": [
    "lstm_model=Sequential()\n",
    "lstm_model.add(LSTM(units=50,return_sequences=True,input_shape=(x_train_data.shape[1],1)))\n",
    "lstm_model.add(LSTM(units=50))\n",
    "lstm_model.add(Dense(1))"
   ]
  },
  {
   "cell_type": "code",
   "execution_count": null,
   "id": "c395b398",
   "metadata": {},
   "outputs": [
    {
     "name": "stdout",
     "output_type": "stream",
     "text": [
      "Epoch 1/10\n",
      "46810/46810 - 124s - loss: 219.2336 - 124s/epoch - 3ms/step\n",
      "Epoch 2/10\n",
      "46810/46810 - 120s - loss: 17.6159 - 120s/epoch - 3ms/step\n",
      "Epoch 3/10\n",
      "46810/46810 - 121s - loss: 13.0765 - 121s/epoch - 3ms/step\n",
      "Epoch 4/10\n",
      "46810/46810 - 121s - loss: 10.4390 - 121s/epoch - 3ms/step\n",
      "Epoch 5/10\n"
     ]
    }
   ],
   "source": [
    "lstm_model.compile(loss='mean_squared_error',optimizer='adam')\n",
    "lstm_model.fit(x_train_data,y_train_data,epochs=10,batch_size=1,verbose=2)"
   ]
  },
  {
   "cell_type": "code",
   "execution_count": null,
   "id": "55f7cd0e",
   "metadata": {},
   "outputs": [],
   "source": [
    "predictions=lstm_model.predict(X_test.values)"
   ]
  },
  {
   "cell_type": "code",
   "execution_count": null,
   "id": "530bda5e",
   "metadata": {},
   "outputs": [],
   "source": []
  },
  {
   "cell_type": "code",
   "execution_count": null,
   "id": "115ee742",
   "metadata": {},
   "outputs": [],
   "source": [
    "result = X_test\n",
    "result['price'] = y_test['Price']\n",
    "result['prediction'] = predictions.tolist()"
   ]
  },
  {
   "cell_type": "code",
   "execution_count": null,
   "id": "d590e1ab",
   "metadata": {},
   "outputs": [],
   "source": [
    "r2 = r2_score(y_test.values.ravel(), predictions)"
   ]
  },
  {
   "cell_type": "code",
   "execution_count": null,
   "id": "4727224c",
   "metadata": {},
   "outputs": [],
   "source": [
    "print(\"Model Accuracy is: \"+str(round(r2*100)))"
   ]
  },
  {
   "cell_type": "code",
   "execution_count": null,
   "id": "f80780ae",
   "metadata": {},
   "outputs": [],
   "source": []
  },
  {
   "cell_type": "code",
   "execution_count": null,
   "id": "be90b159",
   "metadata": {},
   "outputs": [],
   "source": [
    "2653*100/30"
   ]
  },
  {
   "cell_type": "code",
   "execution_count": null,
   "id": "20ca0fbb",
   "metadata": {},
   "outputs": [],
   "source": [
    "30/100*71872"
   ]
  },
  {
   "cell_type": "code",
   "execution_count": null,
   "id": "08554c50",
   "metadata": {},
   "outputs": [],
   "source": [
    "1883+800"
   ]
  },
  {
   "cell_type": "markdown",
   "id": "4ced7372",
   "metadata": {},
   "source": [
    "Manual Model Predction"
   ]
  },
  {
   "cell_type": "code",
   "execution_count": null,
   "id": "99a96f93",
   "metadata": {},
   "outputs": [],
   "source": [
    "#lstm_model.predict([[180109,23,23,159500]])"
   ]
  },
  {
   "cell_type": "code",
   "execution_count": null,
   "id": "fff9ecab",
   "metadata": {},
   "outputs": [],
   "source": []
  },
  {
   "cell_type": "code",
   "execution_count": null,
   "id": "112461ec",
   "metadata": {},
   "outputs": [],
   "source": [
    "\n"
   ]
  },
  {
   "cell_type": "code",
   "execution_count": null,
   "id": "1995f0b1",
   "metadata": {},
   "outputs": [],
   "source": [
    "ploting=result[['Timestamp','price','prediction','NameASid']]"
   ]
  },
  {
   "cell_type": "code",
   "execution_count": null,
   "id": "5eb313ed",
   "metadata": {},
   "outputs": [],
   "source": [
    "ploting['prediction'] = ploting['prediction'].apply(lambda x:round(x[0],1))"
   ]
  },
  {
   "cell_type": "code",
   "execution_count": null,
   "id": "427f74c4",
   "metadata": {},
   "outputs": [],
   "source": [
    "ploting['date_'] = pd.to_datetime(ploting['Timestamp'],unit='s')\n",
    "#ploting['Time'] = pd.to_datetime(ploting['Timestamp'],unit='s').dt.time"
   ]
  },
  {
   "cell_type": "code",
   "execution_count": null,
   "id": "e81ddf84",
   "metadata": {},
   "outputs": [],
   "source": [
    "#ploting =ploting.head(50)"
   ]
  },
  {
   "cell_type": "code",
   "execution_count": null,
   "id": "1fbac2ac",
   "metadata": {},
   "outputs": [],
   "source": [
    "#ploting=ploting[ploting['NameASid'].isin([116])]"
   ]
  },
  {
   "cell_type": "code",
   "execution_count": null,
   "id": "0c38f8a8",
   "metadata": {},
   "outputs": [],
   "source": [
    "del ploting['Timestamp']"
   ]
  },
  {
   "cell_type": "code",
   "execution_count": null,
   "id": "28a7bdb7",
   "metadata": {},
   "outputs": [],
   "source": [
    "ploting=ploting[ploting['NameASid'].isin([116])]"
   ]
  },
  {
   "cell_type": "code",
   "execution_count": null,
   "id": "c1a45615",
   "metadata": {},
   "outputs": [],
   "source": []
  },
  {
   "cell_type": "code",
   "execution_count": null,
   "id": "aea0b939",
   "metadata": {},
   "outputs": [],
   "source": [
    "\n",
    "ploting =ploting.sample(50)"
   ]
  },
  {
   "cell_type": "code",
   "execution_count": null,
   "id": "15a7e248",
   "metadata": {},
   "outputs": [],
   "source": [
    "\n",
    "\n",
    "fig = go.Figure()\n",
    "\n",
    "fig.add_trace(go.Line(\n",
    "   x = [list(ploting['NameASid']),list(ploting['date_'])],\n",
    "        y = list(ploting['price']),\n",
    "  name = \"Actual Price\",\n",
    "))\n",
    "fig.add_trace(go.Line(\n",
    "  x = [list(ploting['NameASid']),list(ploting['date_'])],\n",
    "  y = list(ploting['prediction']),\n",
    "  name = \"Prediction\",\n",
    "))\n",
    "\n",
    "fig.update_layout(title_text=\"Price Prediction\")\n",
    "#fig.update_xaxes(rangeslider_visible=True)\n",
    "#fig.update_layout(hovermode=\"x unified\")\n",
    "\n",
    "fig.show()"
   ]
  },
  {
   "cell_type": "code",
   "execution_count": null,
   "id": "b9f83fa6",
   "metadata": {},
   "outputs": [],
   "source": []
  },
  {
   "cell_type": "code",
   "execution_count": null,
   "id": "19a2401d",
   "metadata": {},
   "outputs": [],
   "source": []
  },
  {
   "cell_type": "code",
   "execution_count": null,
   "id": "e019366a",
   "metadata": {},
   "outputs": [],
   "source": [
    "d=pd.date_range(start ='2022-6-1', end ='2022-6-5', freq ='23h')"
   ]
  },
  {
   "cell_type": "code",
   "execution_count": null,
   "id": "2cb40716",
   "metadata": {},
   "outputs": [],
   "source": [
    "date = []\n",
    "for i in d:\n",
    "    date.append(i)"
   ]
  },
  {
   "cell_type": "code",
   "execution_count": null,
   "id": "2b5e3073",
   "metadata": {},
   "outputs": [],
   "source": [
    "p_df={'Timestamp':date,'NameASid':[116,116,116,116,116],'Volume':[50000,3100000,161700,191700,30170],'High':[40,16,61,30,20],'Low':[35,10,60,26,18],'Open':[20,8,55,15,10]}"
   ]
  },
  {
   "cell_type": "code",
   "execution_count": null,
   "id": "dc78da3c",
   "metadata": {},
   "outputs": [],
   "source": []
  },
  {
   "cell_type": "code",
   "execution_count": null,
   "id": "2423632d",
   "metadata": {},
   "outputs": [],
   "source": []
  },
  {
   "cell_type": "code",
   "execution_count": null,
   "id": "4e55e820",
   "metadata": {},
   "outputs": [],
   "source": [
    "p_df_1=pd.DataFrame(p_df)"
   ]
  },
  {
   "cell_type": "code",
   "execution_count": null,
   "id": "55c6a79f",
   "metadata": {},
   "outputs": [],
   "source": [
    "p_df_1['Timestamp'] = p_df_1['Timestamp'].apply(lambda x:pd.to_datetime(x).timestamp())"
   ]
  },
  {
   "cell_type": "markdown",
   "id": "dd248464",
   "metadata": {},
   "source": [
    "Data Feed to Model for predction"
   ]
  },
  {
   "cell_type": "code",
   "execution_count": null,
   "id": "0c293ad2",
   "metadata": {},
   "outputs": [],
   "source": [
    "predictions=lstm_model.predict(p_df_1.values)"
   ]
  },
  {
   "cell_type": "code",
   "execution_count": null,
   "id": "892cea03",
   "metadata": {},
   "outputs": [],
   "source": [
    "p_df_1['prediction'] = predictions.tolist()"
   ]
  },
  {
   "cell_type": "code",
   "execution_count": null,
   "id": "339d7461",
   "metadata": {},
   "outputs": [],
   "source": [
    "p_df_1['prediction'] = p_df_1['prediction'].apply(lambda x:round(x[0],1))"
   ]
  },
  {
   "cell_type": "code",
   "execution_count": null,
   "id": "2f300f04",
   "metadata": {},
   "outputs": [],
   "source": [
    "p_df_1['date_'] = p_df_1['Timestamp'].apply(lambda x:pd.to_datetime(x,unit='s'))"
   ]
  },
  {
   "cell_type": "code",
   "execution_count": null,
   "id": "0b3dbbd7",
   "metadata": {},
   "outputs": [],
   "source": [
    "p_df_1 = p_df_1[['date_','NameASid','prediction']]"
   ]
  },
  {
   "cell_type": "code",
   "execution_count": null,
   "id": "49326c67",
   "metadata": {},
   "outputs": [],
   "source": [
    "model_pri=pd.concat([ploting,p_df_1])"
   ]
  },
  {
   "cell_type": "code",
   "execution_count": null,
   "id": "4f30c2f5",
   "metadata": {},
   "outputs": [],
   "source": [
    "\n",
    "\n",
    "fig = go.Figure()\n",
    "\n",
    "fig.add_trace(go.Line(\n",
    "   x = [list(model_pri['NameASid']),list(model_pri['date_'])],\n",
    "        y = list(model_pri['price']),\n",
    "  name = \"Actual Price\",\n",
    "))\n",
    "fig.add_trace(go.Line(\n",
    "  x = [list(model_pri['NameASid']),list(model_pri['date_'])],\n",
    "  y = list(model_pri['prediction']),\n",
    "  name = \"Prediction\",\n",
    "))\n",
    "\n",
    "fig.update_layout(title_text=\"Price Prediction\")\n",
    "\n",
    "fig.show()"
   ]
  },
  {
   "cell_type": "code",
   "execution_count": null,
   "id": "26ed1c7f",
   "metadata": {},
   "outputs": [],
   "source": []
  },
  {
   "cell_type": "markdown",
   "id": "35597554",
   "metadata": {},
   "source": [
    "##### "
   ]
  },
  {
   "cell_type": "code",
   "execution_count": 115,
   "id": "aa3b2309",
   "metadata": {},
   "outputs": [
    {
     "data": {
      "text/plain": [
       "['price', 'prediction', 'NameASid', 'date_']"
      ]
     },
     "execution_count": 115,
     "metadata": {},
     "output_type": "execute_result"
    }
   ],
   "source": [
    "ploting.columns.to_list()"
   ]
  },
  {
   "cell_type": "code",
   "execution_count": null,
   "id": "5de88893",
   "metadata": {},
   "outputs": [],
   "source": []
  },
  {
   "cell_type": "code",
   "execution_count": 116,
   "id": "e3773082",
   "metadata": {},
   "outputs": [
    {
     "ename": "ValueError",
     "evalue": "Failed to convert a NumPy array to a Tensor (Unsupported object type int).",
     "output_type": "error",
     "traceback": [
      "\u001b[1;31m---------------------------------------------------------------------------\u001b[0m",
      "\u001b[1;31mValueError\u001b[0m                                Traceback (most recent call last)",
      "Input \u001b[1;32mIn [116]\u001b[0m, in \u001b[0;36m<cell line: 1>\u001b[1;34m()\u001b[0m\n\u001b[1;32m----> 1\u001b[0m predictions\u001b[38;5;241m=\u001b[39m\u001b[43mlstm_model\u001b[49m\u001b[38;5;241;43m.\u001b[39;49m\u001b[43mpredict\u001b[49m\u001b[43m(\u001b[49m\u001b[43mX_test\u001b[49m\u001b[38;5;241;43m.\u001b[39;49m\u001b[43mvalues\u001b[49m\u001b[43m)\u001b[49m\n",
      "File \u001b[1;32mC:\\ProgramData\\Anaconda3\\lib\\site-packages\\keras\\utils\\traceback_utils.py:67\u001b[0m, in \u001b[0;36mfilter_traceback.<locals>.error_handler\u001b[1;34m(*args, **kwargs)\u001b[0m\n\u001b[0;32m     65\u001b[0m \u001b[38;5;28;01mexcept\u001b[39;00m \u001b[38;5;167;01mException\u001b[39;00m \u001b[38;5;28;01mas\u001b[39;00m e:  \u001b[38;5;66;03m# pylint: disable=broad-except\u001b[39;00m\n\u001b[0;32m     66\u001b[0m   filtered_tb \u001b[38;5;241m=\u001b[39m _process_traceback_frames(e\u001b[38;5;241m.\u001b[39m__traceback__)\n\u001b[1;32m---> 67\u001b[0m   \u001b[38;5;28;01mraise\u001b[39;00m e\u001b[38;5;241m.\u001b[39mwith_traceback(filtered_tb) \u001b[38;5;28;01mfrom\u001b[39;00m \u001b[38;5;28mNone\u001b[39m\n\u001b[0;32m     68\u001b[0m \u001b[38;5;28;01mfinally\u001b[39;00m:\n\u001b[0;32m     69\u001b[0m   \u001b[38;5;28;01mdel\u001b[39;00m filtered_tb\n",
      "File \u001b[1;32m~\\AppData\\Roaming\\Python\\Python39\\site-packages\\tensorflow\\python\\framework\\constant_op.py:102\u001b[0m, in \u001b[0;36mconvert_to_eager_tensor\u001b[1;34m(value, ctx, dtype)\u001b[0m\n\u001b[0;32m    100\u001b[0m     dtype \u001b[38;5;241m=\u001b[39m dtypes\u001b[38;5;241m.\u001b[39mas_dtype(dtype)\u001b[38;5;241m.\u001b[39mas_datatype_enum\n\u001b[0;32m    101\u001b[0m ctx\u001b[38;5;241m.\u001b[39mensure_initialized()\n\u001b[1;32m--> 102\u001b[0m \u001b[38;5;28;01mreturn\u001b[39;00m \u001b[43mops\u001b[49m\u001b[38;5;241;43m.\u001b[39;49m\u001b[43mEagerTensor\u001b[49m\u001b[43m(\u001b[49m\u001b[43mvalue\u001b[49m\u001b[43m,\u001b[49m\u001b[43m \u001b[49m\u001b[43mctx\u001b[49m\u001b[38;5;241;43m.\u001b[39;49m\u001b[43mdevice_name\u001b[49m\u001b[43m,\u001b[49m\u001b[43m \u001b[49m\u001b[43mdtype\u001b[49m\u001b[43m)\u001b[49m\n",
      "\u001b[1;31mValueError\u001b[0m: Failed to convert a NumPy array to a Tensor (Unsupported object type int)."
     ]
    }
   ],
   "source": [
    "predictions=lstm_model.predict(X_test.values)"
   ]
  },
  {
   "cell_type": "code",
   "execution_count": null,
   "id": "041ca548",
   "metadata": {},
   "outputs": [],
   "source": []
  },
  {
   "cell_type": "code",
   "execution_count": null,
   "id": "79dffbdc",
   "metadata": {},
   "outputs": [],
   "source": [
    "X_test"
   ]
  },
  {
   "cell_type": "code",
   "execution_count": null,
   "id": "ccf4c00a",
   "metadata": {},
   "outputs": [],
   "source": [
    "p_df"
   ]
  },
  {
   "cell_type": "code",
   "execution_count": null,
   "id": "f9c87c31",
   "metadata": {},
   "outputs": [],
   "source": [
    "p_df_1"
   ]
  },
  {
   "cell_type": "code",
   "execution_count": 62,
   "id": "01e58cab",
   "metadata": {},
   "outputs": [
    {
     "name": "stdout",
     "output_type": "stream",
     "text": [
      "1/1 [==============================] - 0s 29ms/step\n"
     ]
    }
   ],
   "source": [
    "d=lstm_model.predict([[180109,116,50001,40,35,20]])"
   ]
  },
  {
   "cell_type": "code",
   "execution_count": null,
   "id": "cd5436a9",
   "metadata": {},
   "outputs": [],
   "source": []
  },
  {
   "cell_type": "code",
   "execution_count": null,
   "id": "b1f0e921",
   "metadata": {},
   "outputs": [],
   "source": []
  }
 ],
 "metadata": {
  "kernelspec": {
   "display_name": "Python 3 (ipykernel)",
   "language": "python",
   "name": "python3"
  },
  "language_info": {
   "codemirror_mode": {
    "name": "ipython",
    "version": 3
   },
   "file_extension": ".py",
   "mimetype": "text/x-python",
   "name": "python",
   "nbconvert_exporter": "python",
   "pygments_lexer": "ipython3",
   "version": "3.8.10"
  }
 },
 "nbformat": 4,
 "nbformat_minor": 5
}
